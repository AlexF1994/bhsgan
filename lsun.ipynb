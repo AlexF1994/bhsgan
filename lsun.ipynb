{
 "cells": [
  {
   "cell_type": "code",
   "execution_count": 1,
   "id": "ba98f1e0-a5a9-4103-9ccf-a08857562199",
   "metadata": {},
   "outputs": [],
   "source": [
    "%load_ext autoreload\n",
    "%autoreload 2\n",
    "%load_ext line_profiler"
   ]
  },
  {
   "cell_type": "code",
   "execution_count": 2,
   "id": "8582bc3b-aba1-4afb-b964-f6c2bd8fcb24",
   "metadata": {},
   "outputs": [],
   "source": [
    "import numpy as np\n",
    "import matplotlib.pyplot as plt\n",
    "import torch\n",
    "from time import  time\n",
    "\n",
    "from torchvision.utils import make_grid\n",
    "import torch.nn as nn\n",
    "import torchvision.transforms as transforms\n",
    "from torch.utils.data import DataLoader\n",
    "from torchvision.datasets import MNIST, LSUN\n",
    "\n",
    "import matplotlib.pyplot as plt\n",
    "import numpy as np\n",
    "import seaborn as sns\n",
    "import torch\n",
    "import random\n",
    "\n",
    "from bhsgan import DiscriminatorBhsMnist, GeneratorBhsMnist, DiscriminatorBhsLsun, GeneratorBhsLsun\n",
    "from ipmbhsgan import DiscriminatorIpmMnist, GeneratorIpmMnist\n",
    "from trainer import (Trainer, TrainingParams, get_dis_loss_bhs,\n",
    "                     get_dis_loss_ipm, get_dis_loss_wasserstein,\n",
    "                     get_gen_loss_bhs, get_gen_loss_ipm,\n",
    "                     get_gen_loss_wasserstein)\n",
    "from utils import get_device, get_noise, init_weights, plot_tensor_images, plot_losses\n",
    "from wgan import DiscriminatorWassersteinMnist, GeneratorWassersteinMnist\n",
    "from torch.utils.tensorboard import SummaryWriter"
   ]
  },
  {
   "cell_type": "code",
   "execution_count": 12,
   "id": "16bda5fd-7aeb-4c57-9e3a-07f3bf47ab0b",
   "metadata": {},
   "outputs": [
    {
     "data": {
      "text/plain": [
       "1"
      ]
     },
     "execution_count": 12,
     "metadata": {},
     "output_type": "execute_result"
    }
   ],
   "source": [
    "sum(((-1)**i for i in range(5001)))"
   ]
  },
  {
   "cell_type": "code",
   "execution_count": 4,
   "id": "448ed295-c197-4ef8-9dfe-9910900acb18",
   "metadata": {},
   "outputs": [],
   "source": [
    "# create dataloader\n",
    "batch_size = 128\n",
    "device = get_device()\n",
    "image_size = 64\n",
    "\n",
    "train_transform = transforms.Compose([\n",
    "        transforms.Resize(image_size),\n",
    "        transforms.CenterCrop(image_size),\n",
    "        transforms.ToTensor(),\n",
    "        transforms.Normalize((0.5, 0.5, 0.5), (0.5, 0.5, 0.5)),\n",
    "])\n",
    "\n",
    "dataloader = DataLoader(\n",
    "    LSUN('LSUN/bedroom_train_lmdb', classes=['bedroom_train'], transform=train_transform),\n",
    "    batch_size=batch_size,\n",
    "    shuffle=True)"
   ]
  },
  {
   "cell_type": "code",
   "execution_count": null,
   "id": "70f847a5-4ecf-494b-950d-71b59cfe44c0",
   "metadata": {},
   "outputs": [],
   "source": [
    "latent_dim = 100\n",
    "latent_dim_bhs = 28*28\n",
    "batch_size_bhs = 128\n",
    "test_noise = get_noise(25, latent_dim, device)\n",
    "test_noise_bhs = get_noise(25, latent_dim_bhs, device)"
   ]
  },
  {
   "cell_type": "code",
   "execution_count": null,
   "id": "9b533dee-5e5e-4adb-87ec-15d92256670d",
   "metadata": {},
   "outputs": [],
   "source": [
    "training_params = TrainingParams(lr_dis=0.0002,\n",
    "                                 lr_gen=0.0002,\n",
    "                                 num_epochs=1,\n",
    "                                 num_dis_updates=5,\n",
    "                                 num_gen_updates=1,\n",
    "                                 beta_1=0.5,\n",
    "                                 batch_size=batch_size)"
   ]
  },
  {
   "cell_type": "code",
   "execution_count": null,
   "id": "2b11f523-4f0a-4e06-ad02-38a17fec2093",
   "metadata": {},
   "outputs": [],
   "source": [
    "generator_wasserstein = GeneratorWassersteinMnist(latent_dim).apply(init_weights)\n",
    "discriminator_wasserstein = DiscriminatorWassersteinMnist(28*28).apply(init_weights)\n",
    "trainer_wgan = Trainer(training_params, generator_wasserstein, discriminator_wasserstein, device=device)"
   ]
  },
  {
   "cell_type": "code",
   "execution_count": null,
   "id": "f7097946-8068-4b23-8305-df3492f5c1a6",
   "metadata": {},
   "outputs": [],
   "source": [
    "# training loop\n",
    "trained_wgan = trainer_wgan.train_gan(dataloader, get_dis_loss_wasserstein, get_gen_loss_wasserstein, True, flatten_dim=28*28)"
   ]
  },
  {
   "cell_type": "code",
   "execution_count": null,
   "id": "f18433da-a86f-43f0-bbc0-d12d8f5d51ee",
   "metadata": {},
   "outputs": [],
   "source": [
    "# show generated images\n",
    "generated_images_wasserstein = trained_wgan.generator(test_noise)\n",
    "plot_tensor_images(generated_images_wasserstein, num_images=25)"
   ]
  },
  {
   "cell_type": "code",
   "execution_count": null,
   "id": "8e4a272a-2c8c-4861-a83b-7c15f22c837e",
   "metadata": {},
   "outputs": [],
   "source": [
    "# plot losses\n",
    "plot_losses(trained_wgan.generator_losses, trained_wgan.discriminator_losses)"
   ]
  }
 ],
 "metadata": {
  "kernelspec": {
   "display_name": "bhsgan",
   "language": "python",
   "name": "bhsgan"
  },
  "language_info": {
   "codemirror_mode": {
    "name": "ipython",
    "version": 3
   },
   "file_extension": ".py",
   "mimetype": "text/x-python",
   "name": "python",
   "nbconvert_exporter": "python",
   "pygments_lexer": "ipython3",
   "version": "3.10.12"
  }
 },
 "nbformat": 4,
 "nbformat_minor": 5
}
