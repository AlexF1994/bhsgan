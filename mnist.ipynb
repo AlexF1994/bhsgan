{
 "cells": [
  {
   "cell_type": "code",
   "execution_count": 1,
   "metadata": {},
   "outputs": [],
   "source": [
    "%load_ext autoreload\n",
    "%autoreload 2\n",
    "%load_ext line_profiler"
   ]
  },
  {
   "cell_type": "code",
   "execution_count": null,
   "metadata": {},
   "outputs": [],
   "source": [
    "import numpy as np\n",
    "import matplotlib.pyplot as plt\n",
    "import torch\n",
    "from time import  time\n",
    "\n",
    "from torchvision.utils import make_grid\n",
    "import torch.nn as nn\n",
    "import torchvision.transforms as transforms\n",
    "from torch.utils.data import DataLoader\n",
    "from torchvision.datasets import MNIST\n",
    "\n",
    "import matplotlib.pyplot as plt\n",
    "import numpy as np\n",
    "import seaborn as sns\n",
    "import torch\n",
    "\n",
    "from bhsgan import DiscriminatorBhsMnist, GeneratorBhsMnist\n",
    "from ipmbhsgan import DiscriminatorIpmMnist, GeneratorIpmMnist\n",
    "from trainer import (Trainer, TrainingParams, get_dis_loss_bhs,\n",
    "                     get_dis_loss_ipm, get_dis_loss_wasserstein,\n",
    "                     get_gen_loss_bhs, get_gen_loss_ipm,\n",
    "                     get_gen_loss_wasserstein)\n",
    "from utils import get_device, get_noise, init_weights, plot_tensor_images, plot_losses\n",
    "from wgan import DiscriminatorWassersteinMnist, GeneratorWassersteinMnist\n",
    "from torch.utils.tensorboard import SummaryWriter"
   ]
  },
  {
   "cell_type": "code",
   "execution_count": null,
   "metadata": {},
   "outputs": [],
   "source": [
    "# create dataloader\n",
    "batch_size = 128\n",
    "device = get_device()\n",
    "\n",
    "train_transform = transforms.Compose([\n",
    "    transforms.ToTensor(),\n",
    "])\n",
    "\n",
    "dataloader = DataLoader(\n",
    "    MNIST('.', download=True, transform=train_transform),\n",
    "    batch_size=batch_size,\n",
    "    shuffle=True)"
   ]
  },
  {
   "cell_type": "code",
   "execution_count": null,
   "metadata": {},
   "outputs": [],
   "source": [
    "start = time()\n",
    "dataiter = iter(dataloader)\n",
    "images,labels = dataiter._next_data()\n",
    "print ('Time is {} sec'.format(time()-start))\n",
    "\n",
    "plt.figure(figsize=(8,8))\n",
    "plt.axis(\"off\")\n",
    "plt.title(\"Training Images\")\n",
    "plt.imshow(np.transpose(make_grid(images.to(device), padding=2, normalize=True).cpu(),(1,2,0)))\n",
    "\n",
    "print('Shape of loading one batch:', images.shape)\n",
    "print('Total no. of batches present in trainloader:', len(dataloader))"
   ]
  },
  {
   "cell_type": "code",
   "execution_count": null,
   "metadata": {},
   "outputs": [],
   "source": [
    "latent_dim = 100\n",
    "latent_dim_bhs = 200\n",
    "batch_size_bhs = 128\n",
    "test_noise = get_noise(25, latent_dim, device)\n",
    "test_noise_bhs = get_noise(25, latent_dim_bhs, device)"
   ]
  },
  {
   "cell_type": "markdown",
   "metadata": {},
   "source": [
    "## First I train a Wasserstein GAN"
   ]
  },
  {
   "cell_type": "code",
   "execution_count": null,
   "metadata": {},
   "outputs": [],
   "source": [
    "training_params = TrainingParams(lr_dis=0.0002,\n",
    "                                 lr_gen=0.0002,\n",
    "                                 num_epochs=20,\n",
    "                                 num_dis_updates=5,\n",
    "                                 num_gen_updates=1,\n",
    "                                 beta_1=0.5,\n",
    "                                 batch_size=batch_size)"
   ]
  },
  {
   "cell_type": "code",
   "execution_count": null,
   "metadata": {},
   "outputs": [],
   "source": [
    "generator_wasserstein = GeneratorWassersteinMnist(latent_dim).apply(init_weights)\n",
    "discriminator_wasserstein = DiscriminatorWassersteinMnist(28*28).apply(init_weights)\n",
    "trainer_wgan = Trainer(training_params, generator_wasserstein, discriminator_wasserstein, device=device)"
   ]
  },
  {
   "cell_type": "code",
   "execution_count": null,
   "metadata": {},
   "outputs": [],
   "source": [
    "summary(trainer_wgan.discriminator.to(device) , (1,28*28))"
   ]
  },
  {
   "cell_type": "code",
   "execution_count": null,
   "metadata": {},
   "outputs": [],
   "source": [
    "summary(trainer_wgan.generator.to(device), (100,))"
   ]
  },
  {
   "cell_type": "code",
   "execution_count": null,
   "metadata": {},
   "outputs": [],
   "source": [
    "# training loop\n",
    "trained_wgan = trainer_wgan.train_gan(dataloader, get_dis_loss_wasserstein, get_gen_loss_wasserstein, True, flatten_dim=28*28, noise_dim=latent_dim)"
   ]
  },
  {
   "cell_type": "code",
   "execution_count": null,
   "metadata": {},
   "outputs": [],
   "source": [
    "# show generated images\n",
    "generated_images_wasserstein = trained_wgan.generator(test_noise)\n",
    "plot_tensor_images(generated_images_wasserstein, num_images=25)"
   ]
  },
  {
   "cell_type": "code",
   "execution_count": null,
   "metadata": {},
   "outputs": [],
   "source": [
    "# plot losses\n",
    "plot_losses(trained_wgan.generator_losses, trained_wgan.discriminator_losses)"
   ]
  },
  {
   "cell_type": "markdown",
   "metadata": {},
   "source": [
    "## BHS Gan"
   ]
  },
  {
   "cell_type": "code",
   "execution_count": null,
   "metadata": {},
   "outputs": [],
   "source": [
    "training_params_bhs = TrainingParams(lr_dis=0.0002, lr_gen=0.0002, num_epochs=20, num_dis_updates=2, num_gen_updates=1, beta_1=0.5, batch_size=batch_size_bhs)\n",
    "generator_bhs = GeneratorBhsMnist(latent_dim_bhs)\n",
    "discriminator_bhs = DiscriminatorBhsMnist(28*28)\n",
    "trainer_bhs = Trainer(training_params_bhs, generator_bhs, discriminator_bhs, device=device)"
   ]
  },
  {
   "cell_type": "code",
   "execution_count": null,
   "metadata": {},
   "outputs": [],
   "source": [
    "# training loop\n",
    "trained_bhsgan = trainer_bhs.train_gan(dataloader, get_dis_loss_bhs, get_gen_loss_bhs, False, flatten_dim=28*28, noise_dim=latent_dim_bhs)"
   ]
  },
  {
   "cell_type": "code",
   "execution_count": null,
   "metadata": {},
   "outputs": [],
   "source": [
    "# show generated images\n",
    "generated_images_bhs = trained_bhsgan.generator(test_noise_bhs)\n",
    "plot_tensor_images(generated_images_bhs, num_images=25)"
   ]
  },
  {
   "cell_type": "code",
   "execution_count": null,
   "metadata": {},
   "outputs": [],
   "source": [
    "# plot losses\n",
    "plot_losses(trained_bhsgan.generator_losses, trained_bhsgan.discriminator_losses)"
   ]
  },
  {
   "cell_type": "markdown",
   "metadata": {},
   "source": [
    "## IPM BHS GAN"
   ]
  },
  {
   "cell_type": "code",
   "execution_count": null,
   "metadata": {},
   "outputs": [],
   "source": [
    "training_params_ipm = TrainingParams(lr_dis=0.0002, lr_gen=0.0002, num_epochs=20, num_dis_updates=5, num_gen_updates=1, beta_1=0.5, batch_size=batch_size)\n",
    "generator_ipm = GeneratorIpmMnist(latent_dim).apply(init_weights)\n",
    "discriminator_ipm = DiscriminatorIpmMnist(28*28).apply(init_weights)\n",
    "trainer_ipm = Trainer(training_params_ipm, generator_ipm, discriminator_ipm, device=device)"
   ]
  },
  {
   "cell_type": "code",
   "execution_count": null,
   "metadata": {},
   "outputs": [],
   "source": [
    "# training loop\n",
    "trained_ipmgan = trainer_ipm.train_gan(dataloader, get_dis_loss_ipm, get_gen_loss_ipm, False, flatten_dim=28*28, noise_dim=latent_dim)"
   ]
  },
  {
   "cell_type": "code",
   "execution_count": null,
   "metadata": {},
   "outputs": [],
   "source": [
    "# show generated images\n",
    "generated_images_ipm = trained_ipmgan.generator(test_noise)\n",
    "plot_tensor_images(generated_images_ipm, num_images=25)"
   ]
  },
  {
   "cell_type": "code",
   "execution_count": null,
   "metadata": {},
   "outputs": [],
   "source": [
    "# plot losses\n",
    "plot_losses(trained_ipmgan.generator_losses, trained_ipmgan.discriminator_losses)"
   ]
  },
  {
   "cell_type": "code",
   "execution_count": null,
   "metadata": {},
   "outputs": [],
   "source": []
  }
 ],
 "metadata": {
  "kernelspec": {
   "display_name": "bhsgan",
   "language": "python",
   "name": "bhsgan"
  },
  "language_info": {
   "codemirror_mode": {
    "name": "ipython",
    "version": 3
   },
   "file_extension": ".py",
   "mimetype": "text/x-python",
   "name": "python",
   "nbconvert_exporter": "python",
   "pygments_lexer": "ipython3",
   "version": "3.10.12"
  }
 },
 "nbformat": 4,
 "nbformat_minor": 4
}
